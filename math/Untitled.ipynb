{
 "cells": [
  {
   "cell_type": "code",
   "execution_count": 1,
   "id": "dd6ca1ba-035e-4f15-899b-a1c255024dc1",
   "metadata": {},
   "outputs": [
    {
     "name": "stdout",
     "output_type": "stream",
     "text": [
      "Input degree: 15\n",
      "Output radian: 0.261799\n"
     ]
    }
   ],
   "source": [
    "import math\n",
    "\n",
    "def degrees_to_radians(degrees):\n",
    "    return degrees * (math.pi / 180)\n",
    "\n",
    "degree = 15\n",
    "radian = degrees_to_radians(degree)\n",
    "print(f\"Input degree: {degree}\")\n",
    "print(f\"Output radian: {radian:.6f}\")"
   ]
  },
  {
   "cell_type": "code",
   "execution_count": 3,
   "id": "20d94fa2-d3fa-443a-bcb3-2d95fd6cacc0",
   "metadata": {},
   "outputs": [
    {
     "name": "stdout",
     "output_type": "stream",
     "text": [
      "Area: 27.5\n"
     ]
    }
   ],
   "source": [
    "def trapezoid_area(height, base1, base2):\n",
    "    return 0.5 * (base1 + base2) * height\n",
    "\n",
    "height = 5\n",
    "base1 = 5\n",
    "base2 = 6\n",
    "area_trapezoid = trapezoid_area(height, base1, base2)\n",
    "print(f\"Area: {area_trapezoid}\")"
   ]
  },
  {
   "cell_type": "code",
   "execution_count": 15,
   "id": "76e551f3-78ac-470c-8564-45ae56333732",
   "metadata": {},
   "outputs": [
    {
     "name": "stdout",
     "output_type": "stream",
     "text": [
      "The area of the polygon is: 625\n"
     ]
    }
   ],
   "source": [
    "def regular_polygon_area(sides, length):\n",
    "    return int((sides * (length ** 2)) / (4 * math.tan(math.pi / sides)))\n",
    "\n",
    "sides = 4\n",
    "side_length = 25\n",
    "area_polygon = regular_polygon_area(sides, side_length)\n",
    "print(f\"The area of the polygon is: {area_polygon}\")"
   ]
  },
  {
   "cell_type": "code",
   "execution_count": 9,
   "id": "2a222b33-d12a-4a7f-8542-0988287f2e4d",
   "metadata": {},
   "outputs": [
    {
     "name": "stdout",
     "output_type": "stream",
     "text": [
      "Area: 30\n"
     ]
    }
   ],
   "source": [
    "def parallelogram_area(base, height):\n",
    "    return base * height\n",
    "\n",
    "base = 5\n",
    "height_parallelogram = 6\n",
    "area_parallelogram = parallelogram_area(base, height_parallelogram)\n",
    "print(f\"Area: {area_parallelogram}\")\n"
   ]
  },
  {
   "cell_type": "code",
   "execution_count": null,
   "id": "29a9f449-eb51-473a-ab37-592f7e8a0a3e",
   "metadata": {},
   "outputs": [],
   "source": []
  }
 ],
 "metadata": {
  "kernelspec": {
   "display_name": "Python [conda env:base] *",
   "language": "python",
   "name": "conda-base-py"
  },
  "language_info": {
   "codemirror_mode": {
    "name": "ipython",
    "version": 3
   },
   "file_extension": ".py",
   "mimetype": "text/x-python",
   "name": "python",
   "nbconvert_exporter": "python",
   "pygments_lexer": "ipython3",
   "version": "3.12.7"
  }
 },
 "nbformat": 4,
 "nbformat_minor": 5
}
