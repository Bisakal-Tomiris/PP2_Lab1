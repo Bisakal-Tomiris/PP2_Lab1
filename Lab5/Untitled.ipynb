{
 "cells": [
  {
   "cell_type": "code",
   "execution_count": 21,
   "id": "8e995c06-e0a1-425d-83f5-37619b019043",
   "metadata": {},
   "outputs": [
    {
     "name": "stdout",
     "output_type": "stream",
     "text": [
      "True\n"
     ]
    }
   ],
   "source": [
    "import re\n",
    "\n",
    "def match_ab_zero_or_more(s):\n",
    "    pattern = r'^ab*$'\n",
    "    return re.search(pattern, s) is not None\n",
    "print(match_ab_zero_or_more(\"abbb\"))  "
   ]
  },
  {
   "cell_type": "code",
   "execution_count": 23,
   "id": "dcb97969-a6ed-4044-9d63-59f68e4eae19",
   "metadata": {},
   "outputs": [
    {
     "name": "stdout",
     "output_type": "stream",
     "text": [
      "True\n"
     ]
    }
   ],
   "source": [
    "def match_ab_two_to_three(s):\n",
    "    pattern = r'^ab{2,3}$'\n",
    "    return re.search(pattern, s) is not None\n",
    "print(match_ab_two_to_three(\"abbb\"))"
   ]
  },
  {
   "cell_type": "code",
   "execution_count": 25,
   "id": "09ef5005-e981-4d98-9e3b-b0aee5fee6d4",
   "metadata": {},
   "outputs": [
    {
     "name": "stdout",
     "output_type": "stream",
     "text": [
      "['hello_world', 'test_case']\n"
     ]
    }
   ],
   "source": [
    "def find_lowercase_underscore(s):\n",
    "    pattern = r'\\b[a-z]+_[a-z]+\\b'\n",
    "    return re.findall(pattern, s)\n",
    "print(find_lowercase_underscore(\"hello_world test_case\"))"
   ]
  },
  {
   "cell_type": "code",
   "execution_count": 27,
   "id": "57bfbf31-8b62-4269-b4d7-3c84f322a8af",
   "metadata": {},
   "outputs": [
    {
     "name": "stdout",
     "output_type": "stream",
     "text": [
      "['Hello', 'World']\n"
     ]
    }
   ],
   "source": [
    "def find_upper_followed_by_lower(s):\n",
    "    pattern = r'\\b[A-Z][a-z]+\\b'\n",
    "    return re.findall(pattern, s)\n",
    "print(find_upper_followed_by_lower(\"Hello World\")) "
   ]
  },
  {
   "cell_type": "code",
   "execution_count": 29,
   "id": "e0742142-e149-4838-bb58-644aab755761",
   "metadata": {},
   "outputs": [
    {
     "name": "stdout",
     "output_type": "stream",
     "text": [
      "True\n"
     ]
    }
   ],
   "source": [
    "def match_a_anything_b(s):\n",
    "    pattern = r'^a.*b$'\n",
    "    return re.search(pattern, s) is not None\n",
    "print(match_a_anything_b(\"axxxb\"))"
   ]
  },
  {
   "cell_type": "code",
   "execution_count": 31,
   "id": "2e25ddcf-81b8-4477-bb58-0ccc1111d11b",
   "metadata": {},
   "outputs": [
    {
     "name": "stdout",
     "output_type": "stream",
     "text": [
      "Hello:world:This:is:a:test\n"
     ]
    }
   ],
   "source": [
    "def replace_with_colon(s):\n",
    "    pattern = r'[ ,.]+'\n",
    "    return re.sub(pattern, ':', s)\n",
    "print(replace_with_colon(\"Hello, world. This is a test\"))"
   ]
  },
  {
   "cell_type": "code",
   "execution_count": 33,
   "id": "30881cd6-ffa4-4954-88f9-d1e12d982ef0",
   "metadata": {},
   "outputs": [
    {
     "name": "stdout",
     "output_type": "stream",
     "text": [
      "thisIsATest\n"
     ]
    }
   ],
   "source": [
    "def snake_to_camel(s):\n",
    "    parts = s.split('_')\n",
    "    return parts[0] + ''.join(word.capitalize() for word in parts[1:])\n",
    "print(snake_to_camel(\"this_is_a_test\"))"
   ]
  },
  {
   "cell_type": "code",
   "execution_count": 35,
   "id": "554bb69f-d289-486d-abb6-667dc33895ab",
   "metadata": {},
   "outputs": [
    {
     "name": "stdout",
     "output_type": "stream",
     "text": [
      "['', 'This', 'Is', 'A', 'Test']\n"
     ]
    }
   ],
   "source": [
    "def split_at_uppercase(s):\n",
    "    pattern = r'(?=[A-Z])'\n",
    "    return re.split(pattern, s)\n",
    "print(split_at_uppercase(\"ThisIsATest\"))"
   ]
  },
  {
   "cell_type": "code",
   "execution_count": 37,
   "id": "9b89d749-5d13-41ca-8a8d-9259d666bbab",
   "metadata": {},
   "outputs": [
    {
     "name": "stdout",
     "output_type": "stream",
     "text": [
      "This Is A Test\n"
     ]
    }
   ],
   "source": [
    "def insert_spaces(s):\n",
    "    pattern = r'([A-Z])'\n",
    "    return re.sub(pattern, r' \\1', s).strip()\n",
    "print(insert_spaces(\"ThisIsATest\"))"
   ]
  },
  {
   "cell_type": "code",
   "execution_count": 39,
   "id": "ba25328b-1b77-4cb7-90e6-2bd584ee283c",
   "metadata": {},
   "outputs": [
    {
     "name": "stdout",
     "output_type": "stream",
     "text": [
      "this_is_a_test\n"
     ]
    }
   ],
   "source": [
    "def camel_to_snake(s):\n",
    "    pattern = r'([A-Z])'\n",
    "    return re.sub(pattern, r'_\\1', s).lower()\n",
    "print(camel_to_snake(\"thisIsATest\"))"
   ]
  }
 ],
 "metadata": {
  "kernelspec": {
   "display_name": "Python [conda env:base] *",
   "language": "python",
   "name": "conda-base-py"
  },
  "language_info": {
   "codemirror_mode": {
    "name": "ipython",
    "version": 3
   },
   "file_extension": ".py",
   "mimetype": "text/x-python",
   "name": "python",
   "nbconvert_exporter": "python",
   "pygments_lexer": "ipython3",
   "version": "3.12.7"
  }
 },
 "nbformat": 4,
 "nbformat_minor": 5
}
