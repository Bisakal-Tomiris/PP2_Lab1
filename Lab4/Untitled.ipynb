{
 "cells": [
  {
   "cell_type": "code",
   "execution_count": 6,
   "id": "779c9332-a297-4c5b-a5ad-9988e284ade9",
   "metadata": {},
   "outputs": [],
   "source": [
    "#Datetime"
   ]
  },
  {
   "cell_type": "code",
   "execution_count": 8,
   "id": "6cb68ee6-31b1-4336-a6ec-2a654ade74a2",
   "metadata": {},
   "outputs": [
    {
     "name": "stdout",
     "output_type": "stream",
     "text": [
      "Date five days ago: 2025-02-07\n"
     ]
    }
   ],
   "source": [
    "import datetime\n",
    "current_date = datetime.date.today()\n",
    "new_date = current_date - datetime.timedelta(days=5)\n",
    "print(f\"Date five days ago: {new_date}\")"
   ]
  },
  {
   "cell_type": "code",
   "execution_count": 10,
   "id": "f68282a9-c78b-48ec-9a1f-f53b2426d228",
   "metadata": {},
   "outputs": [
    {
     "name": "stdout",
     "output_type": "stream",
     "text": [
      "Yesterday: 2025-02-11\n",
      "Today: 2025-02-12\n",
      "Tomorrow: 2025-02-13\n"
     ]
    }
   ],
   "source": [
    "yesterday = current_date - datetime.timedelta(days=1)\n",
    "tomorrow = current_date + datetime.timedelta(days=1)\n",
    "print(f\"Yesterday: {yesterday}\")\n",
    "print(f\"Today: {current_date}\")\n",
    "print(f\"Tomorrow: {tomorrow}\")"
   ]
  },
  {
   "cell_type": "code",
   "execution_count": 12,
   "id": "31eda733-d9c7-4f35-9c1e-aa93af2b7784",
   "metadata": {},
   "outputs": [
    {
     "name": "stdout",
     "output_type": "stream",
     "text": [
      "Current datetime without microseconds: 2025-02-12 11:29:22\n"
     ]
    }
   ],
   "source": [
    "now = datetime.datetime.now()\n",
    "now_without_microseconds = datetime.datetime(now.year, now.month, now.day, now.hour, now.minute, now.second)\n",
    "print(f\"Current datetime without microseconds: {now_without_microseconds}\")\n"
   ]
  },
  {
   "cell_type": "code",
   "execution_count": 20,
   "id": "5db76391-c782-46b0-b180-cc30e9449dbd",
   "metadata": {},
   "outputs": [
    {
     "name": "stdout",
     "output_type": "stream",
     "text": [
      "Difference in seconds: 86400.0\n"
     ]
    }
   ],
   "source": [
    "date1 = datetime.datetime(2025, 1, 1, 12, 0, 0)\n",
    "date2 = datetime.datetime(2025, 1, 2, 12, 0, 0)\n",
    "diff_seconds = (date2 - date1).total_seconds()\n",
    "print(f\"Difference in seconds: {diff_seconds}\")"
   ]
  },
  {
   "cell_type": "code",
   "execution_count": 22,
   "id": "5e9c6941-427f-4e97-a413-4971535bcc6b",
   "metadata": {},
   "outputs": [],
   "source": [
    "#Generetor"
   ]
  },
  {
   "cell_type": "code",
   "execution_count": 24,
   "id": "162502b1-c9e6-47fa-86f1-d4d0c273e474",
   "metadata": {},
   "outputs": [
    {
     "name": "stdin",
     "output_type": "stream",
     "text": [
      "Enter the value of N:  6\n"
     ]
    },
    {
     "name": "stdout",
     "output_type": "stream",
     "text": [
      "1\n",
      "4\n",
      "9\n",
      "16\n",
      "25\n",
      "36\n"
     ]
    }
   ],
   "source": [
    "def square_generator(N):\n",
    "    for i in range(1, N + 1):\n",
    "        yield i ** 2 \n",
    " \n",
    "N = int(input(\"Enter the value of N: \"))\n",
    " \n",
    "for square in square_generator(N):\n",
    "    print(square)"
   ]
  },
  {
   "cell_type": "code",
   "execution_count": 26,
   "id": "f1b22481-0111-4f29-887a-e16122d9fbfc",
   "metadata": {},
   "outputs": [
    {
     "name": "stdin",
     "output_type": "stream",
     "text": [
      "Enter the value of n:  10\n"
     ]
    },
    {
     "name": "stdout",
     "output_type": "stream",
     "text": [
      "0, 2, 4, 6, 8, 10\n"
     ]
    }
   ],
   "source": [
    "def even_numbers(n):\n",
    "    for i in range(0, n + 1, 2):  \n",
    "        yield i\n",
    " \n",
    "n = int(input(\"Enter the value of n: \"))\n",
    " \n",
    "print(*even_numbers(n), sep=\", \")"
   ]
  },
  {
   "cell_type": "code",
   "execution_count": 28,
   "id": "16279604-e691-4ee0-af2f-daf65a818f58",
   "metadata": {},
   "outputs": [
    {
     "name": "stdin",
     "output_type": "stream",
     "text": [
      "Enter the value of n:  12\n"
     ]
    },
    {
     "name": "stdout",
     "output_type": "stream",
     "text": [
      "0, 12\n"
     ]
    }
   ],
   "source": [
    "def divisible_by_3_and_4(n):\n",
    "    for i in range(0, n + 1):\n",
    "        if i % 3 == 0 and i % 4 == 0:  \n",
    "            yield i\n",
    " \n",
    "n = int(input(\"Enter the value of n: \"))\n",
    "print(*divisible_by_3_and_4(n), sep=\", \")\n"
   ]
  },
  {
   "cell_type": "code",
   "execution_count": 30,
   "id": "ac9f5179-dacf-4b79-b236-1488ec7d05ad",
   "metadata": {},
   "outputs": [
    {
     "name": "stdin",
     "output_type": "stream",
     "text": [
      "Enter the start number (a):  2\n",
      "Enter the end number (b):  8\n"
     ]
    },
    {
     "name": "stdout",
     "output_type": "stream",
     "text": [
      "4\n",
      "9\n",
      "16\n",
      "25\n",
      "36\n",
      "49\n",
      "64\n"
     ]
    }
   ],
   "source": [
    "def squares(a, b):\n",
    "    for i in range(a, b + 1):  \n",
    "        yield i ** 2  \n",
    " \n",
    "a = int(input(\"Enter the start number (a): \"))\n",
    "b = int(input(\"Enter the end number (b): \"))\n",
    " \n",
    "for square in squares(a, b):\n",
    "    print(square)"
   ]
  },
  {
   "cell_type": "code",
   "execution_count": 32,
   "id": "0ab51f83-cde5-4fcc-bfdc-2cc6e367eaa1",
   "metadata": {},
   "outputs": [
    {
     "name": "stdin",
     "output_type": "stream",
     "text": [
      "Enter a number (n):  7\n"
     ]
    },
    {
     "name": "stdout",
     "output_type": "stream",
     "text": [
      "7\n",
      "6\n",
      "5\n",
      "4\n",
      "3\n",
      "2\n",
      "1\n",
      "0\n"
     ]
    }
   ],
   "source": [
    "def countdown(n):\n",
    "    for i in range(n, -1, -1): \n",
    "        yield i  \n",
    " \n",
    "n = int(input(\"Enter a number (n): \"))\n",
    " \n",
    "for num in countdown(n):\n",
    "    print(num)"
   ]
  }
 ],
 "metadata": {
  "kernelspec": {
   "display_name": "Python [conda env:base] *",
   "language": "python",
   "name": "conda-base-py"
  },
  "language_info": {
   "codemirror_mode": {
    "name": "ipython",
    "version": 3
   },
   "file_extension": ".py",
   "mimetype": "text/x-python",
   "name": "python",
   "nbconvert_exporter": "python",
   "pygments_lexer": "ipython3",
   "version": "3.12.7"
  }
 },
 "nbformat": 4,
 "nbformat_minor": 5
}
