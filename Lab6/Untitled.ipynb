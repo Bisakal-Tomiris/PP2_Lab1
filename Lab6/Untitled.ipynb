{
 "cells": [
  {
   "cell_type": "code",
   "execution_count": 1,
   "id": "a7573aeb-e0e5-4339-8833-5338cb41a63c",
   "metadata": {},
   "outputs": [
    {
     "name": "stdout",
     "output_type": "stream",
     "text": [
      "Произведение всех чисел: 24\n"
     ]
    }
   ],
   "source": [
    "from functools import reduce\n",
    "\n",
    "def multiply_list(numbers):\n",
    "    return reduce(lambda x, y: x * y, numbers)\n",
    "\n",
    "# Пример\n",
    "numbers = [1, 2, 3, 4]\n",
    "result = multiply_list(numbers)\n",
    "print(\"Произведение всех чисел:\", result)"
   ]
  },
  {
   "cell_type": "code",
   "execution_count": 3,
   "id": "d2656188-be61-44fd-932e-743c635b19ae",
   "metadata": {},
   "outputs": [
    {
     "name": "stdout",
     "output_type": "stream",
     "text": [
      "Количество заглавных букв: 2\n",
      "Количество строчных букв: 8\n"
     ]
    }
   ],
   "source": [
    "def count_upper_lower(s):\n",
    "    upper = sum(1 for c in s if c.isupper())\n",
    "    lower = sum(1 for c in s if c.islower())\n",
    "    return upper, lower\n",
    "\n",
    "# Пример\n",
    "string = \"Hello World\"\n",
    "upper, lower = count_upper_lower(string)\n",
    "print(\"Количество заглавных букв:\", upper)\n",
    "print(\"Количество строчных букв:\", lower)"
   ]
  },
  {
   "cell_type": "code",
   "execution_count": 5,
   "id": "6f49ab37-c69d-460a-b8f6-b75f83df5dea",
   "metadata": {},
   "outputs": [
    {
     "name": "stdout",
     "output_type": "stream",
     "text": [
      "Строка 'madam' является палиндромом: True\n"
     ]
    }
   ],
   "source": [
    "def is_palindrome(s):\n",
    "    return s == s[::-1]\n",
    "\n",
    "# Пример\n",
    "string = \"madam\"\n",
    "result = is_palindrome(string)\n",
    "print(f\"Строка '{string}' является палиндромом:\", result)"
   ]
  },
  {
   "cell_type": "code",
   "execution_count": 7,
   "id": "d6ab1c3c-0a13-458e-8d93-89da92a64942",
   "metadata": {},
   "outputs": [
    {
     "name": "stdout",
     "output_type": "stream",
     "text": [
      "Квадратный корень из 25100 после задержки 2000 мс: 158.42979517754858\n"
     ]
    }
   ],
   "source": [
    "import time\n",
    "import math\n",
    "\n",
    "def delayed_sqrt(number, delay_ms):\n",
    "    time.sleep(delay_ms / 1000)  # Задержка в миллисекундах\n",
    "    return math.sqrt(number)\n",
    "\n",
    "# Пример\n",
    "number = 25100\n",
    "delay = 2000  # Задержка 2 секунды\n",
    "result = delayed_sqrt(number, delay)\n",
    "print(f\"Квадратный корень из {number} после задержки {delay} мс:\", result)"
   ]
  },
  {
   "cell_type": "code",
   "execution_count": 9,
   "id": "9477b942-584a-4fc0-84a2-ddbfb58b2b2a",
   "metadata": {},
   "outputs": [
    {
     "name": "stdout",
     "output_type": "stream",
     "text": [
      "Все элементы кортежа равны True: False\n"
     ]
    }
   ],
   "source": [
    "def all_true(elements):\n",
    "    return all(elements)\n",
    "\n",
    "# Пример\n",
    "tuple_elements = (True, True, False)\n",
    "result = all_true(tuple_elements)\n",
    "print(\"Все элементы кортежа равны True:\", result)"
   ]
  },
  {
   "cell_type": "markdown",
   "id": "4e634eae-53bc-4147-a760-f879b1a79d2d",
   "metadata": {},
   "source": [
    "File"
   ]
  },
  {
   "cell_type": "code",
   "execution_count": 2,
   "id": "16b55d3f-282c-44f2-8712-512470424313",
   "metadata": {},
   "outputs": [
    {
     "name": "stdout",
     "output_type": "stream",
     "text": [
      "File 'example.txt' has been created!\n"
     ]
    }
   ],
   "source": [
    "with open(\"example.txt\", \"w\") as file:\n",
    "    file.write(\"Hello, this is a test file.\\nThis is the second line.\\n\")\n",
    "\n",
    "print(\"File 'example.txt' has been created!\")"
   ]
  },
  {
   "cell_type": "code",
   "execution_count": 4,
   "id": "0b597188-91e4-4720-8b78-1d01a58abef3",
   "metadata": {},
   "outputs": [
    {
     "name": "stdout",
     "output_type": "stream",
     "text": [
      "Directories: ['.ipynb_checkpoints']\n",
      "Files: ['example.txt', 'Untitled.ipynb']\n",
      "All Items: ['.ipynb_checkpoints', 'example.txt', 'Untitled.ipynb']\n"
     ]
    }
   ],
   "source": [
    "import os\n",
    "\n",
    "path = \".\"\n",
    "\n",
    "all_items = os.listdir(path)\n",
    "\n",
    "directories = [d for d in all_items if os.path.isdir(os.path.join(path, d))]\n",
    "\n",
    "files = [f for f in all_items if os.path.isfile(os.path.join(path, f))]\n",
    "\n",
    "print(\"Directories:\", directories)\n",
    "print(\"Files:\", files)\n",
    "print(\"All Items:\", all_items)"
   ]
  },
  {
   "cell_type": "code",
   "execution_count": 6,
   "id": "4d85a25f-80de-4734-aa48-09c0b5a44eb6",
   "metadata": {},
   "outputs": [
    {
     "name": "stdout",
     "output_type": "stream",
     "text": [
      "Path exists: True\n",
      "Readable: True\n",
      "Writable: True\n",
      "Executable: True\n"
     ]
    }
   ],
   "source": [
    "file_path = \"example.txt\"\n",
    "\n",
    "print(\"Path exists:\", os.access(file_path, os.F_OK))\n",
    "print(\"Readable:\", os.access(file_path, os.R_OK))\n",
    "print(\"Writable:\", os.access(file_path, os.W_OK))\n",
    "print(\"Executable:\", os.access(file_path, os.X_OK))"
   ]
  },
  {
   "cell_type": "code",
   "execution_count": 8,
   "id": "f4b04d7a-7752-4836-928f-140ef5e21dff",
   "metadata": {},
   "outputs": [
    {
     "name": "stdout",
     "output_type": "stream",
     "text": [
      "Path exists!\n",
      "Directory: C:\\Users\\user\\Desktop\\Lab6\n",
      "Filename: example.txt\n"
     ]
    }
   ],
   "source": [
    "if os.path.exists(file_path):\n",
    "    print(\"Path exists!\")\n",
    "    print(\"Directory:\", os.path.dirname(os.path.abspath(file_path)))  \n",
    "    print(\"Filename:\", os.path.basename(file_path))  \n",
    "else:\n",
    "    print(\"Path does not exist.\")"
   ]
  },
  {
   "cell_type": "code",
   "execution_count": 10,
   "id": "6bc06d0a-d12c-4699-bbd4-55785a45e931",
   "metadata": {},
   "outputs": [
    {
     "name": "stdout",
     "output_type": "stream",
     "text": [
      "Number of lines: 2\n"
     ]
    }
   ],
   "source": [
    "with open(file_path, 'r', encoding='utf-8') as file:\n",
    "    lines = file.readlines()\n",
    "    print(\"Number of lines:\", len(lines))"
   ]
  },
  {
   "cell_type": "code",
   "execution_count": 12,
   "id": "2cb9248b-a663-4a7d-a41d-a71b2ebb41c0",
   "metadata": {},
   "outputs": [
    {
     "name": "stdout",
     "output_type": "stream",
     "text": [
      "List has been written to example.txt\n"
     ]
    }
   ],
   "source": [
    "items = [\"Notebook\\n\", \"Book\\n\", \"Pen\\n\"]\n",
    "\n",
    "with open(file_path, 'a', encoding='utf-8') as file:\n",
    "    file.writelines(items)\n",
    "\n",
    "print(\"List has been written to\", file_path)"
   ]
  },
  {
   "cell_type": "code",
   "execution_count": 14,
   "id": "5aa83ae3-5075-49ba-bf82-414a7b766a9f",
   "metadata": {},
   "outputs": [
    {
     "name": "stdout",
     "output_type": "stream",
     "text": [
      "Created: A.txt\n",
      "Created: B.txt\n",
      "Created: C.txt\n",
      "Created: D.txt\n",
      "Created: E.txt\n",
      "Created: F.txt\n",
      "Created: G.txt\n",
      "Created: H.txt\n",
      "Created: I.txt\n",
      "Created: J.txt\n",
      "Created: K.txt\n",
      "Created: L.txt\n",
      "Created: M.txt\n",
      "Created: N.txt\n",
      "Created: O.txt\n",
      "Created: P.txt\n",
      "Created: Q.txt\n",
      "Created: R.txt\n",
      "Created: S.txt\n",
      "Created: T.txt\n",
      "Created: U.txt\n",
      "Created: V.txt\n",
      "Created: W.txt\n",
      "Created: X.txt\n",
      "Created: Y.txt\n",
      "Created: Z.txt\n"
     ]
    }
   ],
   "source": [
    "import string\n",
    "\n",
    "for letter in string.ascii_uppercase:\n",
    "    filename = f\"{letter}.txt\"\n",
    "    with open(filename, 'w') as file:\n",
    "        file.write(f\"This is {filename}\\n\")\n",
    "    print(f\"Created: {filename}\")"
   ]
  },
  {
   "cell_type": "code",
   "execution_count": 16,
   "id": "46c2f804-6dd6-4188-b91c-ca83ebb1d73d",
   "metadata": {},
   "outputs": [
    {
     "name": "stdout",
     "output_type": "stream",
     "text": [
      "Copied content from example.txt to copy_example.txt\n"
     ]
    }
   ],
   "source": [
    "import shutil\n",
    "\n",
    "\n",
    "destination = \"copy_example.txt\"\n",
    "\n",
    "shutil.copyfile(file_path, destination)\n",
    "\n",
    "print(f\"Copied content from {file_path} to {destination}\")"
   ]
  },
  {
   "cell_type": "code",
   "execution_count": 18,
   "id": "6edbf2ac-0124-4eba-b507-d81dc2ea0b82",
   "metadata": {},
   "outputs": [
    {
     "name": "stdout",
     "output_type": "stream",
     "text": [
      "File deleted: example.txt\n"
     ]
    }
   ],
   "source": [
    "if os.path.exists(file_path):\n",
    "    if os.access(file_path, os.W_OK):  \n",
    "        os.remove(file_path)\n",
    "        print(\"File deleted:\", file_path)\n",
    "    else:\n",
    "        print(\"No permission to delete the file.\")\n",
    "else:\n",
    "    print(\"File does not exist.\")"
   ]
  }
 ],
 "metadata": {
  "kernelspec": {
   "display_name": "Python [conda env:base] *",
   "language": "python",
   "name": "conda-base-py"
  },
  "language_info": {
   "codemirror_mode": {
    "name": "ipython",
    "version": 3
   },
   "file_extension": ".py",
   "mimetype": "text/x-python",
   "name": "python",
   "nbconvert_exporter": "python",
   "pygments_lexer": "ipython3",
   "version": "3.12.7"
  }
 },
 "nbformat": 4,
 "nbformat_minor": 5
}
